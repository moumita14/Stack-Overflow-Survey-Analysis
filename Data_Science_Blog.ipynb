{
  "nbformat": 4,
  "nbformat_minor": 0,
  "metadata": {
    "colab": {
      "name": "Data Science Blog.ipynb",
      "provenance": [],
      "mount_file_id": "1pAqIrMAdXNZ5pSQeA5hToDORxBn7pQ20",
      "authorship_tag": "ABX9TyOEkzOPqfHq4n9kkgoUdUDs",
      "include_colab_link": true
    },
    "kernelspec": {
      "name": "python3",
      "display_name": "Python 3"
    }
  },
  "cells": [
    {
      "cell_type": "markdown",
      "metadata": {
        "id": "view-in-github",
        "colab_type": "text"
      },
      "source": [
        "<a href=\"https://colab.research.google.com/github/moumita14/Stack-Overflow-Survey-Analysis/blob/master/Data_Science_Blog.ipynb\" target=\"_parent\"><img src=\"https://colab.research.google.com/assets/colab-badge.svg\" alt=\"Open In Colab\"/></a>"
      ]
    },
    {
      "cell_type": "code",
      "metadata": {
        "id": "2mrCL9-G-wbc",
        "colab_type": "code",
        "colab": {}
      },
      "source": [
        ""
      ],
      "execution_count": null,
      "outputs": []
    },
    {
      "cell_type": "markdown",
      "metadata": {
        "id": "hTUj6aSH-w8U",
        "colab_type": "text"
      },
      "source": [
        "# **2019 Stack Overflow Survey Analysis**"
      ]
    },
    {
      "cell_type": "markdown",
      "metadata": {
        "id": "lftbVaQnBStw",
        "colab_type": "text"
      },
      "source": [
        "Stack Overflow is a major resource for programmers worldwide looking for answers to technical questions. Stack Exchange Inc. has been doing an annual Developer Survey taken by users all over the world through social media, emails, ads, text messages etc. It is considered the largest and most comprehensive survey of software developers. In this notebook we will dive into the dataset and try to find out some interesting revelations. \n"
      ]
    },
    {
      "cell_type": "markdown",
      "metadata": {
        "id": "dk4wFQgNp7V_",
        "colab_type": "text"
      },
      "source": [
        "**Business Case**\n",
        "\n",
        "One of the pressing issues in IT industry is the increasing attrition rate of employees. This could be attributed to the employee satisfaction level. In this notebook, we are going to explore employee satisfaction level and what are the contributing factors. Apart from job satistion, another reason employees leave the company is due to their stagnant salary. We will also explore which developers earn more. \n",
        "\n",
        "We will answser the following questions in this notebook:\n",
        "\n",
        "1.   **Which country has the highest job satisfaction for developers ?**\n",
        "2.   **Variation in job satisfaction between developers who have a formal IT education vs those with major in non-IT field?**\n",
        "3.   **How does company size influence the job satisfaction of developers?**\n",
        "4.   **Do developers who contribute to open source have higher salary than those who are not ?**\n",
        "\n",
        "\n",
        "\n",
        "\n"
      ]
    },
    {
      "cell_type": "markdown",
      "metadata": {
        "id": "oQCKErl_DQto",
        "colab_type": "text"
      },
      "source": [
        "## Import Data\n",
        "\n",
        "For this project, I'm using the 2019 Stack Overflow Annual Developer Survey, which can be found [here](https://insights.stackoverflow.com/survey).\n",
        "\n",
        "\n",
        "I have stored the data in my google drive and used google colab for the project as shown in the next few cells."
      ]
    },
    {
      "cell_type": "code",
      "metadata": {
        "id": "neR8y831GhiO",
        "colab_type": "code",
        "colab": {
          "base_uri": "https://localhost:8080/",
          "height": 122
        },
        "outputId": "14cc4d1c-cd70-4f4b-ee7f-acf81e0a7346"
      },
      "source": [
        "from google.colab import drive\n",
        "drive.mount('/content/gdrive')"
      ],
      "execution_count": 1,
      "outputs": [
        {
          "output_type": "stream",
          "text": [
            "Go to this URL in a browser: https://accounts.google.com/o/oauth2/auth?client_id=947318989803-6bn6qk8qdgf4n4g3pfee6491hc0brc4i.apps.googleusercontent.com&redirect_uri=urn%3aietf%3awg%3aoauth%3a2.0%3aoob&response_type=code&scope=email%20https%3a%2f%2fwww.googleapis.com%2fauth%2fdocs.test%20https%3a%2f%2fwww.googleapis.com%2fauth%2fdrive%20https%3a%2f%2fwww.googleapis.com%2fauth%2fdrive.photos.readonly%20https%3a%2f%2fwww.googleapis.com%2fauth%2fpeopleapi.readonly\n",
            "\n",
            "Enter your authorization code:\n",
            "··········\n",
            "Mounted at /content/gdrive\n"
          ],
          "name": "stdout"
        }
      ]
    },
    {
      "cell_type": "markdown",
      "metadata": {
        "id": "JaABpXrfFg7Y",
        "colab_type": "text"
      },
      "source": [
        "Now my drive is mounted in colab, I will store the data in dataframe. But before that I will import all the necessary libraries. "
      ]
    },
    {
      "cell_type": "markdown",
      "metadata": {
        "id": "ibdN8jmcF990",
        "colab_type": "text"
      },
      "source": [
        "## Import Libraries"
      ]
    },
    {
      "cell_type": "code",
      "metadata": {
        "id": "YHwJXgbTGI6n",
        "colab_type": "code",
        "colab": {
          "base_uri": "https://localhost:8080/",
          "height": 292
        },
        "outputId": "f986c8b7-0a74-449b-9298-5d1a0e61491e"
      },
      "source": [
        "!pip install pandasql"
      ],
      "execution_count": 2,
      "outputs": [
        {
          "output_type": "stream",
          "text": [
            "Collecting pandasql\n",
            "  Downloading https://files.pythonhosted.org/packages/6b/c4/ee4096ffa2eeeca0c749b26f0371bd26aa5c8b611c43de99a4f86d3de0a7/pandasql-0.7.3.tar.gz\n",
            "Requirement already satisfied: numpy in /usr/local/lib/python3.6/dist-packages (from pandasql) (1.18.5)\n",
            "Requirement already satisfied: pandas in /usr/local/lib/python3.6/dist-packages (from pandasql) (1.0.4)\n",
            "Requirement already satisfied: sqlalchemy in /usr/local/lib/python3.6/dist-packages (from pandasql) (1.3.17)\n",
            "Requirement already satisfied: pytz>=2017.2 in /usr/local/lib/python3.6/dist-packages (from pandas->pandasql) (2018.9)\n",
            "Requirement already satisfied: python-dateutil>=2.6.1 in /usr/local/lib/python3.6/dist-packages (from pandas->pandasql) (2.8.1)\n",
            "Requirement already satisfied: six>=1.5 in /usr/local/lib/python3.6/dist-packages (from python-dateutil>=2.6.1->pandas->pandasql) (1.12.0)\n",
            "Building wheels for collected packages: pandasql\n",
            "  Building wheel for pandasql (setup.py) ... \u001b[?25l\u001b[?25hdone\n",
            "  Created wheel for pandasql: filename=pandasql-0.7.3-cp36-none-any.whl size=26819 sha256=1637134425152762ef741a5ffa2c06ffb77103d1f47a77271894e2916c9480d6\n",
            "  Stored in directory: /root/.cache/pip/wheels/53/6c/18/b87a2e5fa8a82e9c026311de56210b8d1c01846e18a9607fc9\n",
            "Successfully built pandasql\n",
            "Installing collected packages: pandasql\n",
            "Successfully installed pandasql-0.7.3\n"
          ],
          "name": "stdout"
        }
      ]
    },
    {
      "cell_type": "code",
      "metadata": {
        "id": "TfkKgFYGF9Cy",
        "colab_type": "code",
        "colab": {
          "base_uri": "https://localhost:8080/",
          "height": 71
        },
        "outputId": "eb11c0f9-7353-40e7-95e2-b08648b36e6e"
      },
      "source": [
        "import pandasql\n",
        "import pandas as pd\n",
        "import seaborn as sns\n",
        "import matplotlib.pyplot as plt\n",
        "\n",
        "from matplotlib.colors import ListedColormap\n",
        "\n",
        "\n",
        "import warnings\n",
        "warnings.filterwarnings('ignore')"
      ],
      "execution_count": 3,
      "outputs": [
        {
          "output_type": "stream",
          "text": [
            "/usr/local/lib/python3.6/dist-packages/statsmodels/tools/_testing.py:19: FutureWarning: pandas.util.testing is deprecated. Use the functions in the public API at pandas.testing instead.\n",
            "  import pandas.util.testing as tm\n"
          ],
          "name": "stderr"
        }
      ]
    },
    {
      "cell_type": "code",
      "metadata": {
        "id": "0NDhdnwHMbFX",
        "colab_type": "code",
        "colab": {}
      },
      "source": [
        "#Copying the path of the csv file\n",
        "path = '/content/gdrive/My Drive/survey_results_public.csv'"
      ],
      "execution_count": 6,
      "outputs": []
    },
    {
      "cell_type": "code",
      "metadata": {
        "id": "TivYz36SKvBw",
        "colab_type": "code",
        "colab": {}
      },
      "source": [
        "#Import the dataset\n",
        "data = pd.read_csv(path)"
      ],
      "execution_count": 7,
      "outputs": []
    },
    {
      "cell_type": "markdown",
      "metadata": {
        "id": "mO4QyX7IHIkG",
        "colab_type": "text"
      },
      "source": [
        "## Exploratory Analysis"
      ]
    },
    {
      "cell_type": "code",
      "metadata": {
        "id": "KKe3n5q2QPSC",
        "colab_type": "code",
        "colab": {
          "base_uri": "https://localhost:8080/",
          "height": 780
        },
        "outputId": "8fadd126-e975-450e-c5fc-37724941968f"
      },
      "source": [
        "data.head()"
      ],
      "execution_count": 8,
      "outputs": [
        {
          "output_type": "execute_result",
          "data": {
            "text/html": [
              "<div>\n",
              "<style scoped>\n",
              "    .dataframe tbody tr th:only-of-type {\n",
              "        vertical-align: middle;\n",
              "    }\n",
              "\n",
              "    .dataframe tbody tr th {\n",
              "        vertical-align: top;\n",
              "    }\n",
              "\n",
              "    .dataframe thead th {\n",
              "        text-align: right;\n",
              "    }\n",
              "</style>\n",
              "<table border=\"1\" class=\"dataframe\">\n",
              "  <thead>\n",
              "    <tr style=\"text-align: right;\">\n",
              "      <th></th>\n",
              "      <th>Respondent</th>\n",
              "      <th>MainBranch</th>\n",
              "      <th>Hobbyist</th>\n",
              "      <th>OpenSourcer</th>\n",
              "      <th>OpenSource</th>\n",
              "      <th>Employment</th>\n",
              "      <th>Country</th>\n",
              "      <th>Student</th>\n",
              "      <th>EdLevel</th>\n",
              "      <th>UndergradMajor</th>\n",
              "      <th>EduOther</th>\n",
              "      <th>OrgSize</th>\n",
              "      <th>DevType</th>\n",
              "      <th>YearsCode</th>\n",
              "      <th>Age1stCode</th>\n",
              "      <th>YearsCodePro</th>\n",
              "      <th>CareerSat</th>\n",
              "      <th>JobSat</th>\n",
              "      <th>MgrIdiot</th>\n",
              "      <th>MgrMoney</th>\n",
              "      <th>MgrWant</th>\n",
              "      <th>JobSeek</th>\n",
              "      <th>LastHireDate</th>\n",
              "      <th>LastInt</th>\n",
              "      <th>FizzBuzz</th>\n",
              "      <th>JobFactors</th>\n",
              "      <th>ResumeUpdate</th>\n",
              "      <th>CurrencySymbol</th>\n",
              "      <th>CurrencyDesc</th>\n",
              "      <th>CompTotal</th>\n",
              "      <th>CompFreq</th>\n",
              "      <th>ConvertedComp</th>\n",
              "      <th>WorkWeekHrs</th>\n",
              "      <th>WorkPlan</th>\n",
              "      <th>WorkChallenge</th>\n",
              "      <th>WorkRemote</th>\n",
              "      <th>WorkLoc</th>\n",
              "      <th>ImpSyn</th>\n",
              "      <th>CodeRev</th>\n",
              "      <th>CodeRevHrs</th>\n",
              "      <th>...</th>\n",
              "      <th>DatabaseWorkedWith</th>\n",
              "      <th>DatabaseDesireNextYear</th>\n",
              "      <th>PlatformWorkedWith</th>\n",
              "      <th>PlatformDesireNextYear</th>\n",
              "      <th>WebFrameWorkedWith</th>\n",
              "      <th>WebFrameDesireNextYear</th>\n",
              "      <th>MiscTechWorkedWith</th>\n",
              "      <th>MiscTechDesireNextYear</th>\n",
              "      <th>DevEnviron</th>\n",
              "      <th>OpSys</th>\n",
              "      <th>Containers</th>\n",
              "      <th>BlockchainOrg</th>\n",
              "      <th>BlockchainIs</th>\n",
              "      <th>BetterLife</th>\n",
              "      <th>ITperson</th>\n",
              "      <th>OffOn</th>\n",
              "      <th>SocialMedia</th>\n",
              "      <th>Extraversion</th>\n",
              "      <th>ScreenName</th>\n",
              "      <th>SOVisit1st</th>\n",
              "      <th>SOVisitFreq</th>\n",
              "      <th>SOVisitTo</th>\n",
              "      <th>SOFindAnswer</th>\n",
              "      <th>SOTimeSaved</th>\n",
              "      <th>SOHowMuchTime</th>\n",
              "      <th>SOAccount</th>\n",
              "      <th>SOPartFreq</th>\n",
              "      <th>SOJobs</th>\n",
              "      <th>EntTeams</th>\n",
              "      <th>SOComm</th>\n",
              "      <th>WelcomeChange</th>\n",
              "      <th>SONewContent</th>\n",
              "      <th>Age</th>\n",
              "      <th>Gender</th>\n",
              "      <th>Trans</th>\n",
              "      <th>Sexuality</th>\n",
              "      <th>Ethnicity</th>\n",
              "      <th>Dependents</th>\n",
              "      <th>SurveyLength</th>\n",
              "      <th>SurveyEase</th>\n",
              "    </tr>\n",
              "  </thead>\n",
              "  <tbody>\n",
              "    <tr>\n",
              "      <th>0</th>\n",
              "      <td>1</td>\n",
              "      <td>I am a student who is learning to code</td>\n",
              "      <td>Yes</td>\n",
              "      <td>Never</td>\n",
              "      <td>The quality of OSS and closed source software ...</td>\n",
              "      <td>Not employed, and not looking for work</td>\n",
              "      <td>United Kingdom</td>\n",
              "      <td>No</td>\n",
              "      <td>Primary/elementary school</td>\n",
              "      <td>NaN</td>\n",
              "      <td>Taught yourself a new language, framework, or ...</td>\n",
              "      <td>NaN</td>\n",
              "      <td>NaN</td>\n",
              "      <td>4</td>\n",
              "      <td>10</td>\n",
              "      <td>NaN</td>\n",
              "      <td>NaN</td>\n",
              "      <td>NaN</td>\n",
              "      <td>NaN</td>\n",
              "      <td>NaN</td>\n",
              "      <td>NaN</td>\n",
              "      <td>NaN</td>\n",
              "      <td>NaN</td>\n",
              "      <td>NaN</td>\n",
              "      <td>NaN</td>\n",
              "      <td>NaN</td>\n",
              "      <td>NaN</td>\n",
              "      <td>NaN</td>\n",
              "      <td>NaN</td>\n",
              "      <td>NaN</td>\n",
              "      <td>NaN</td>\n",
              "      <td>NaN</td>\n",
              "      <td>NaN</td>\n",
              "      <td>NaN</td>\n",
              "      <td>NaN</td>\n",
              "      <td>NaN</td>\n",
              "      <td>NaN</td>\n",
              "      <td>NaN</td>\n",
              "      <td>NaN</td>\n",
              "      <td>NaN</td>\n",
              "      <td>...</td>\n",
              "      <td>SQLite</td>\n",
              "      <td>MySQL</td>\n",
              "      <td>MacOS;Windows</td>\n",
              "      <td>Android;Arduino;Windows</td>\n",
              "      <td>Django;Flask</td>\n",
              "      <td>Flask;jQuery</td>\n",
              "      <td>Node.js</td>\n",
              "      <td>Node.js</td>\n",
              "      <td>IntelliJ;Notepad++;PyCharm</td>\n",
              "      <td>Windows</td>\n",
              "      <td>I do not use containers</td>\n",
              "      <td>NaN</td>\n",
              "      <td>NaN</td>\n",
              "      <td>Yes</td>\n",
              "      <td>Fortunately, someone else has that title</td>\n",
              "      <td>Yes</td>\n",
              "      <td>Twitter</td>\n",
              "      <td>Online</td>\n",
              "      <td>Username</td>\n",
              "      <td>2017</td>\n",
              "      <td>A few times per month or weekly</td>\n",
              "      <td>Find answers to specific questions;Learn how t...</td>\n",
              "      <td>3-5 times per week</td>\n",
              "      <td>Stack Overflow was much faster</td>\n",
              "      <td>31-60 minutes</td>\n",
              "      <td>No</td>\n",
              "      <td>NaN</td>\n",
              "      <td>No, I didn't know that Stack Overflow had a jo...</td>\n",
              "      <td>No, and I don't know what those are</td>\n",
              "      <td>Neutral</td>\n",
              "      <td>Just as welcome now as I felt last year</td>\n",
              "      <td>Tech articles written by other developers;Indu...</td>\n",
              "      <td>14.0</td>\n",
              "      <td>Man</td>\n",
              "      <td>No</td>\n",
              "      <td>Straight / Heterosexual</td>\n",
              "      <td>NaN</td>\n",
              "      <td>No</td>\n",
              "      <td>Appropriate in length</td>\n",
              "      <td>Neither easy nor difficult</td>\n",
              "    </tr>\n",
              "    <tr>\n",
              "      <th>1</th>\n",
              "      <td>2</td>\n",
              "      <td>I am a student who is learning to code</td>\n",
              "      <td>No</td>\n",
              "      <td>Less than once per year</td>\n",
              "      <td>The quality of OSS and closed source software ...</td>\n",
              "      <td>Not employed, but looking for work</td>\n",
              "      <td>Bosnia and Herzegovina</td>\n",
              "      <td>Yes, full-time</td>\n",
              "      <td>Secondary school (e.g. American high school, G...</td>\n",
              "      <td>NaN</td>\n",
              "      <td>Taken an online course in programming or softw...</td>\n",
              "      <td>NaN</td>\n",
              "      <td>Developer, desktop or enterprise applications;...</td>\n",
              "      <td>NaN</td>\n",
              "      <td>17</td>\n",
              "      <td>NaN</td>\n",
              "      <td>NaN</td>\n",
              "      <td>NaN</td>\n",
              "      <td>NaN</td>\n",
              "      <td>NaN</td>\n",
              "      <td>NaN</td>\n",
              "      <td>I am actively looking for a job</td>\n",
              "      <td>I've never had a job</td>\n",
              "      <td>NaN</td>\n",
              "      <td>NaN</td>\n",
              "      <td>Financial performance or funding status of the...</td>\n",
              "      <td>Something else changed (education, award, medi...</td>\n",
              "      <td>NaN</td>\n",
              "      <td>NaN</td>\n",
              "      <td>NaN</td>\n",
              "      <td>NaN</td>\n",
              "      <td>NaN</td>\n",
              "      <td>NaN</td>\n",
              "      <td>NaN</td>\n",
              "      <td>NaN</td>\n",
              "      <td>NaN</td>\n",
              "      <td>NaN</td>\n",
              "      <td>NaN</td>\n",
              "      <td>NaN</td>\n",
              "      <td>NaN</td>\n",
              "      <td>...</td>\n",
              "      <td>NaN</td>\n",
              "      <td>MySQL</td>\n",
              "      <td>Windows</td>\n",
              "      <td>Windows</td>\n",
              "      <td>Django</td>\n",
              "      <td>Django</td>\n",
              "      <td>NaN</td>\n",
              "      <td>NaN</td>\n",
              "      <td>Atom;PyCharm</td>\n",
              "      <td>Windows</td>\n",
              "      <td>I do not use containers</td>\n",
              "      <td>NaN</td>\n",
              "      <td>Useful across many domains and could change ma...</td>\n",
              "      <td>Yes</td>\n",
              "      <td>Yes</td>\n",
              "      <td>Yes</td>\n",
              "      <td>Instagram</td>\n",
              "      <td>Online</td>\n",
              "      <td>Username</td>\n",
              "      <td>2017</td>\n",
              "      <td>Daily or almost daily</td>\n",
              "      <td>Find answers to specific questions;Learn how t...</td>\n",
              "      <td>3-5 times per week</td>\n",
              "      <td>Stack Overflow was much faster</td>\n",
              "      <td>11-30 minutes</td>\n",
              "      <td>Yes</td>\n",
              "      <td>A few times per month or weekly</td>\n",
              "      <td>No, I knew that Stack Overflow had a job board...</td>\n",
              "      <td>No, and I don't know what those are</td>\n",
              "      <td>Yes, somewhat</td>\n",
              "      <td>Just as welcome now as I felt last year</td>\n",
              "      <td>Tech articles written by other developers;Indu...</td>\n",
              "      <td>19.0</td>\n",
              "      <td>Man</td>\n",
              "      <td>No</td>\n",
              "      <td>Straight / Heterosexual</td>\n",
              "      <td>NaN</td>\n",
              "      <td>No</td>\n",
              "      <td>Appropriate in length</td>\n",
              "      <td>Neither easy nor difficult</td>\n",
              "    </tr>\n",
              "    <tr>\n",
              "      <th>2</th>\n",
              "      <td>3</td>\n",
              "      <td>I am not primarily a developer, but I write co...</td>\n",
              "      <td>Yes</td>\n",
              "      <td>Never</td>\n",
              "      <td>The quality of OSS and closed source software ...</td>\n",
              "      <td>Employed full-time</td>\n",
              "      <td>Thailand</td>\n",
              "      <td>No</td>\n",
              "      <td>Bachelor’s degree (BA, BS, B.Eng., etc.)</td>\n",
              "      <td>Web development or web design</td>\n",
              "      <td>Taught yourself a new language, framework, or ...</td>\n",
              "      <td>100 to 499 employees</td>\n",
              "      <td>Designer;Developer, back-end;Developer, front-...</td>\n",
              "      <td>3</td>\n",
              "      <td>22</td>\n",
              "      <td>1</td>\n",
              "      <td>Slightly satisfied</td>\n",
              "      <td>Slightly satisfied</td>\n",
              "      <td>Not at all confident</td>\n",
              "      <td>Not sure</td>\n",
              "      <td>Not sure</td>\n",
              "      <td>I’m not actively looking, but I am open to new...</td>\n",
              "      <td>1-2 years ago</td>\n",
              "      <td>Interview with people in peer roles</td>\n",
              "      <td>No</td>\n",
              "      <td>Languages, frameworks, and other technologies ...</td>\n",
              "      <td>I was preparing for a job search</td>\n",
              "      <td>THB</td>\n",
              "      <td>Thai baht</td>\n",
              "      <td>23000.0</td>\n",
              "      <td>Monthly</td>\n",
              "      <td>8820.0</td>\n",
              "      <td>40.0</td>\n",
              "      <td>There's no schedule or spec; I work on what se...</td>\n",
              "      <td>Distracting work environment;Inadequate access...</td>\n",
              "      <td>Less than once per month / Never</td>\n",
              "      <td>Home</td>\n",
              "      <td>Average</td>\n",
              "      <td>No</td>\n",
              "      <td>NaN</td>\n",
              "      <td>...</td>\n",
              "      <td>PostgreSQL</td>\n",
              "      <td>PostgreSQL</td>\n",
              "      <td>NaN</td>\n",
              "      <td>NaN</td>\n",
              "      <td>NaN</td>\n",
              "      <td>Other(s):</td>\n",
              "      <td>NaN</td>\n",
              "      <td>NaN</td>\n",
              "      <td>Vim;Visual Studio Code</td>\n",
              "      <td>Linux-based</td>\n",
              "      <td>I do not use containers</td>\n",
              "      <td>NaN</td>\n",
              "      <td>NaN</td>\n",
              "      <td>Yes</td>\n",
              "      <td>Yes</td>\n",
              "      <td>Yes</td>\n",
              "      <td>Reddit</td>\n",
              "      <td>In real life (in person)</td>\n",
              "      <td>Username</td>\n",
              "      <td>2011</td>\n",
              "      <td>A few times per week</td>\n",
              "      <td>Find answers to specific questions;Learn how t...</td>\n",
              "      <td>6-10 times per week</td>\n",
              "      <td>They were about the same</td>\n",
              "      <td>NaN</td>\n",
              "      <td>Yes</td>\n",
              "      <td>Less than once per month or monthly</td>\n",
              "      <td>Yes</td>\n",
              "      <td>No, I've heard of them, but I am not part of a...</td>\n",
              "      <td>Neutral</td>\n",
              "      <td>Just as welcome now as I felt last year</td>\n",
              "      <td>Tech meetups or events in your area;Courses on...</td>\n",
              "      <td>28.0</td>\n",
              "      <td>Man</td>\n",
              "      <td>No</td>\n",
              "      <td>Straight / Heterosexual</td>\n",
              "      <td>NaN</td>\n",
              "      <td>Yes</td>\n",
              "      <td>Appropriate in length</td>\n",
              "      <td>Neither easy nor difficult</td>\n",
              "    </tr>\n",
              "    <tr>\n",
              "      <th>3</th>\n",
              "      <td>4</td>\n",
              "      <td>I am a developer by profession</td>\n",
              "      <td>No</td>\n",
              "      <td>Never</td>\n",
              "      <td>The quality of OSS and closed source software ...</td>\n",
              "      <td>Employed full-time</td>\n",
              "      <td>United States</td>\n",
              "      <td>No</td>\n",
              "      <td>Bachelor’s degree (BA, BS, B.Eng., etc.)</td>\n",
              "      <td>Computer science, computer engineering, or sof...</td>\n",
              "      <td>Taken an online course in programming or softw...</td>\n",
              "      <td>100 to 499 employees</td>\n",
              "      <td>Developer, full-stack</td>\n",
              "      <td>3</td>\n",
              "      <td>16</td>\n",
              "      <td>Less than 1 year</td>\n",
              "      <td>Very satisfied</td>\n",
              "      <td>Slightly satisfied</td>\n",
              "      <td>Very confident</td>\n",
              "      <td>No</td>\n",
              "      <td>Not sure</td>\n",
              "      <td>I am not interested in new job opportunities</td>\n",
              "      <td>Less than a year ago</td>\n",
              "      <td>Write code by hand (e.g., on a whiteboard);Int...</td>\n",
              "      <td>No</td>\n",
              "      <td>Languages, frameworks, and other technologies ...</td>\n",
              "      <td>I was preparing for a job search</td>\n",
              "      <td>USD</td>\n",
              "      <td>United States dollar</td>\n",
              "      <td>61000.0</td>\n",
              "      <td>Yearly</td>\n",
              "      <td>61000.0</td>\n",
              "      <td>80.0</td>\n",
              "      <td>There's no schedule or spec; I work on what se...</td>\n",
              "      <td>NaN</td>\n",
              "      <td>Less than once per month / Never</td>\n",
              "      <td>Home</td>\n",
              "      <td>A little below average</td>\n",
              "      <td>No</td>\n",
              "      <td>NaN</td>\n",
              "      <td>...</td>\n",
              "      <td>MySQL;SQLite</td>\n",
              "      <td>MySQL;SQLite</td>\n",
              "      <td>Linux;Windows</td>\n",
              "      <td>Linux;Windows</td>\n",
              "      <td>NaN</td>\n",
              "      <td>NaN</td>\n",
              "      <td>.NET</td>\n",
              "      <td>.NET</td>\n",
              "      <td>Eclipse;Vim;Visual Studio;Visual Studio Code</td>\n",
              "      <td>Windows</td>\n",
              "      <td>I do not use containers</td>\n",
              "      <td>Not at all</td>\n",
              "      <td>Useful for decentralized currency (i.e., Bitcoin)</td>\n",
              "      <td>Yes</td>\n",
              "      <td>SIGH</td>\n",
              "      <td>Yes</td>\n",
              "      <td>Reddit</td>\n",
              "      <td>In real life (in person)</td>\n",
              "      <td>Username</td>\n",
              "      <td>2014</td>\n",
              "      <td>Daily or almost daily</td>\n",
              "      <td>Find answers to specific questions;Pass the ti...</td>\n",
              "      <td>1-2 times per week</td>\n",
              "      <td>Stack Overflow was much faster</td>\n",
              "      <td>31-60 minutes</td>\n",
              "      <td>Yes</td>\n",
              "      <td>Less than once per month or monthly</td>\n",
              "      <td>Yes</td>\n",
              "      <td>No, and I don't know what those are</td>\n",
              "      <td>No, not really</td>\n",
              "      <td>Just as welcome now as I felt last year</td>\n",
              "      <td>Tech articles written by other developers;Indu...</td>\n",
              "      <td>22.0</td>\n",
              "      <td>Man</td>\n",
              "      <td>No</td>\n",
              "      <td>Straight / Heterosexual</td>\n",
              "      <td>White or of European descent</td>\n",
              "      <td>No</td>\n",
              "      <td>Appropriate in length</td>\n",
              "      <td>Easy</td>\n",
              "    </tr>\n",
              "    <tr>\n",
              "      <th>4</th>\n",
              "      <td>5</td>\n",
              "      <td>I am a developer by profession</td>\n",
              "      <td>Yes</td>\n",
              "      <td>Once a month or more often</td>\n",
              "      <td>OSS is, on average, of HIGHER quality than pro...</td>\n",
              "      <td>Employed full-time</td>\n",
              "      <td>Ukraine</td>\n",
              "      <td>No</td>\n",
              "      <td>Bachelor’s degree (BA, BS, B.Eng., etc.)</td>\n",
              "      <td>Computer science, computer engineering, or sof...</td>\n",
              "      <td>Taken an online course in programming or softw...</td>\n",
              "      <td>10,000 or more employees</td>\n",
              "      <td>Academic researcher;Developer, desktop or ente...</td>\n",
              "      <td>16</td>\n",
              "      <td>14</td>\n",
              "      <td>9</td>\n",
              "      <td>Very dissatisfied</td>\n",
              "      <td>Slightly dissatisfied</td>\n",
              "      <td>Somewhat confident</td>\n",
              "      <td>Yes</td>\n",
              "      <td>No</td>\n",
              "      <td>I am not interested in new job opportunities</td>\n",
              "      <td>Less than a year ago</td>\n",
              "      <td>Write any code;Write code by hand (e.g., on a ...</td>\n",
              "      <td>No</td>\n",
              "      <td>Industry that I'd be working in;Languages, fra...</td>\n",
              "      <td>I was preparing for a job search</td>\n",
              "      <td>UAH</td>\n",
              "      <td>Ukrainian hryvnia</td>\n",
              "      <td>NaN</td>\n",
              "      <td>NaN</td>\n",
              "      <td>NaN</td>\n",
              "      <td>55.0</td>\n",
              "      <td>There is a schedule and/or spec (made by me or...</td>\n",
              "      <td>Being tasked with non-development work;Inadequ...</td>\n",
              "      <td>A few days each month</td>\n",
              "      <td>Office</td>\n",
              "      <td>A little above average</td>\n",
              "      <td>Yes, because I see value in code review</td>\n",
              "      <td>NaN</td>\n",
              "      <td>...</td>\n",
              "      <td>Couchbase;MongoDB;MySQL;Oracle;PostgreSQL;SQLite</td>\n",
              "      <td>Couchbase;Firebase;MongoDB;MySQL;Oracle;Postgr...</td>\n",
              "      <td>Android;Linux;MacOS;Slack;Windows</td>\n",
              "      <td>Android;Docker;Kubernetes;Linux;Slack</td>\n",
              "      <td>Django;Express;Flask;jQuery;React.js;Spring</td>\n",
              "      <td>Flask;jQuery;React.js;Spring</td>\n",
              "      <td>Cordova;Node.js</td>\n",
              "      <td>Apache Spark;Hadoop;Node.js;React Native</td>\n",
              "      <td>IntelliJ;Notepad++;Vim</td>\n",
              "      <td>Linux-based</td>\n",
              "      <td>Outside of work, for personal projects</td>\n",
              "      <td>Not at all</td>\n",
              "      <td>NaN</td>\n",
              "      <td>Yes</td>\n",
              "      <td>Also Yes</td>\n",
              "      <td>Yes</td>\n",
              "      <td>Facebook</td>\n",
              "      <td>In real life (in person)</td>\n",
              "      <td>Username</td>\n",
              "      <td>I don't remember</td>\n",
              "      <td>Multiple times per day</td>\n",
              "      <td>Find answers to specific questions</td>\n",
              "      <td>More than 10 times per week</td>\n",
              "      <td>Stack Overflow was much faster</td>\n",
              "      <td>NaN</td>\n",
              "      <td>Yes</td>\n",
              "      <td>A few times per month or weekly</td>\n",
              "      <td>No, I knew that Stack Overflow had a job board...</td>\n",
              "      <td>No, I've heard of them, but I am not part of a...</td>\n",
              "      <td>Yes, definitely</td>\n",
              "      <td>Just as welcome now as I felt last year</td>\n",
              "      <td>Tech meetups or events in your area;Courses on...</td>\n",
              "      <td>30.0</td>\n",
              "      <td>Man</td>\n",
              "      <td>No</td>\n",
              "      <td>Straight / Heterosexual</td>\n",
              "      <td>White or of European descent;Multiracial</td>\n",
              "      <td>No</td>\n",
              "      <td>Appropriate in length</td>\n",
              "      <td>Easy</td>\n",
              "    </tr>\n",
              "  </tbody>\n",
              "</table>\n",
              "<p>5 rows × 85 columns</p>\n",
              "</div>"
            ],
            "text/plain": [
              "   Respondent  ...                  SurveyEase\n",
              "0           1  ...  Neither easy nor difficult\n",
              "1           2  ...  Neither easy nor difficult\n",
              "2           3  ...  Neither easy nor difficult\n",
              "3           4  ...                        Easy\n",
              "4           5  ...                        Easy\n",
              "\n",
              "[5 rows x 85 columns]"
            ]
          },
          "metadata": {
            "tags": []
          },
          "execution_count": 8
        }
      ]
    },
    {
      "cell_type": "code",
      "metadata": {
        "id": "LxQzMkiXSHAe",
        "colab_type": "code",
        "colab": {
          "base_uri": "https://localhost:8080/",
          "height": 34
        },
        "outputId": "9ea19bdb-960f-4c0c-fe0e-ab24e1e68a38"
      },
      "source": [
        "# Determine how many rows and columns are in the dataset\n",
        "data.shape"
      ],
      "execution_count": 9,
      "outputs": [
        {
          "output_type": "execute_result",
          "data": {
            "text/plain": [
              "(88883, 85)"
            ]
          },
          "metadata": {
            "tags": []
          },
          "execution_count": 9
        }
      ]
    },
    {
      "cell_type": "code",
      "metadata": {
        "id": "JIh1IM86SG9F",
        "colab_type": "code",
        "colab": {
          "base_uri": "https://localhost:8080/",
          "height": 374
        },
        "outputId": "99e6a8b9-f2bc-401a-f768-3b27ee3ed243"
      },
      "source": [
        "# Get a complete list of columns in the dataset\n",
        "data.columns"
      ],
      "execution_count": 10,
      "outputs": [
        {
          "output_type": "execute_result",
          "data": {
            "text/plain": [
              "Index(['Respondent', 'MainBranch', 'Hobbyist', 'OpenSourcer', 'OpenSource',\n",
              "       'Employment', 'Country', 'Student', 'EdLevel', 'UndergradMajor',\n",
              "       'EduOther', 'OrgSize', 'DevType', 'YearsCode', 'Age1stCode',\n",
              "       'YearsCodePro', 'CareerSat', 'JobSat', 'MgrIdiot', 'MgrMoney',\n",
              "       'MgrWant', 'JobSeek', 'LastHireDate', 'LastInt', 'FizzBuzz',\n",
              "       'JobFactors', 'ResumeUpdate', 'CurrencySymbol', 'CurrencyDesc',\n",
              "       'CompTotal', 'CompFreq', 'ConvertedComp', 'WorkWeekHrs', 'WorkPlan',\n",
              "       'WorkChallenge', 'WorkRemote', 'WorkLoc', 'ImpSyn', 'CodeRev',\n",
              "       'CodeRevHrs', 'UnitTests', 'PurchaseHow', 'PurchaseWhat',\n",
              "       'LanguageWorkedWith', 'LanguageDesireNextYear', 'DatabaseWorkedWith',\n",
              "       'DatabaseDesireNextYear', 'PlatformWorkedWith',\n",
              "       'PlatformDesireNextYear', 'WebFrameWorkedWith',\n",
              "       'WebFrameDesireNextYear', 'MiscTechWorkedWith',\n",
              "       'MiscTechDesireNextYear', 'DevEnviron', 'OpSys', 'Containers',\n",
              "       'BlockchainOrg', 'BlockchainIs', 'BetterLife', 'ITperson', 'OffOn',\n",
              "       'SocialMedia', 'Extraversion', 'ScreenName', 'SOVisit1st',\n",
              "       'SOVisitFreq', 'SOVisitTo', 'SOFindAnswer', 'SOTimeSaved',\n",
              "       'SOHowMuchTime', 'SOAccount', 'SOPartFreq', 'SOJobs', 'EntTeams',\n",
              "       'SOComm', 'WelcomeChange', 'SONewContent', 'Age', 'Gender', 'Trans',\n",
              "       'Sexuality', 'Ethnicity', 'Dependents', 'SurveyLength', 'SurveyEase'],\n",
              "      dtype='object')"
            ]
          },
          "metadata": {
            "tags": []
          },
          "execution_count": 10
        }
      ]
    },
    {
      "cell_type": "code",
      "metadata": {
        "id": "40M5ZfwHSG7B",
        "colab_type": "code",
        "colab": {
          "base_uri": "https://localhost:8080/",
          "height": 1000
        },
        "outputId": "c6828192-79d7-476b-dc8a-f57156377402"
      },
      "source": [
        "# Take a look at the kind of information in each column\n",
        "data.info()"
      ],
      "execution_count": 11,
      "outputs": [
        {
          "output_type": "stream",
          "text": [
            "<class 'pandas.core.frame.DataFrame'>\n",
            "RangeIndex: 88883 entries, 0 to 88882\n",
            "Data columns (total 85 columns):\n",
            " #   Column                  Non-Null Count  Dtype  \n",
            "---  ------                  --------------  -----  \n",
            " 0   Respondent              88883 non-null  int64  \n",
            " 1   MainBranch              88331 non-null  object \n",
            " 2   Hobbyist                88883 non-null  object \n",
            " 3   OpenSourcer             88883 non-null  object \n",
            " 4   OpenSource              86842 non-null  object \n",
            " 5   Employment              87181 non-null  object \n",
            " 6   Country                 88751 non-null  object \n",
            " 7   Student                 87014 non-null  object \n",
            " 8   EdLevel                 86390 non-null  object \n",
            " 9   UndergradMajor          75614 non-null  object \n",
            " 10  EduOther                84260 non-null  object \n",
            " 11  OrgSize                 71791 non-null  object \n",
            " 12  DevType                 81335 non-null  object \n",
            " 13  YearsCode               87938 non-null  object \n",
            " 14  Age1stCode              87634 non-null  object \n",
            " 15  YearsCodePro            74331 non-null  object \n",
            " 16  CareerSat               72847 non-null  object \n",
            " 17  JobSat                  70988 non-null  object \n",
            " 18  MgrIdiot                61159 non-null  object \n",
            " 19  MgrMoney                61157 non-null  object \n",
            " 20  MgrWant                 61232 non-null  object \n",
            " 21  JobSeek                 80555 non-null  object \n",
            " 22  LastHireDate            79854 non-null  object \n",
            " 23  LastInt                 67155 non-null  object \n",
            " 24  FizzBuzz                71344 non-null  object \n",
            " 25  JobFactors              79371 non-null  object \n",
            " 26  ResumeUpdate            77877 non-null  object \n",
            " 27  CurrencySymbol          71392 non-null  object \n",
            " 28  CurrencyDesc            71392 non-null  object \n",
            " 29  CompTotal               55945 non-null  float64\n",
            " 30  CompFreq                63268 non-null  object \n",
            " 31  ConvertedComp           55823 non-null  float64\n",
            " 32  WorkWeekHrs             64503 non-null  float64\n",
            " 33  WorkPlan                68914 non-null  object \n",
            " 34  WorkChallenge           68141 non-null  object \n",
            " 35  WorkRemote              70284 non-null  object \n",
            " 36  WorkLoc                 70055 non-null  object \n",
            " 37  ImpSyn                  71779 non-null  object \n",
            " 38  CodeRev                 70390 non-null  object \n",
            " 39  CodeRevHrs              49790 non-null  float64\n",
            " 40  UnitTests               62668 non-null  object \n",
            " 41  PurchaseHow             61108 non-null  object \n",
            " 42  PurchaseWhat            62029 non-null  object \n",
            " 43  LanguageWorkedWith      87569 non-null  object \n",
            " 44  LanguageDesireNextYear  84088 non-null  object \n",
            " 45  DatabaseWorkedWith      76026 non-null  object \n",
            " 46  DatabaseDesireNextYear  69147 non-null  object \n",
            " 47  PlatformWorkedWith      80714 non-null  object \n",
            " 48  PlatformDesireNextYear  77443 non-null  object \n",
            " 49  WebFrameWorkedWith      65022 non-null  object \n",
            " 50  WebFrameDesireNextYear  62944 non-null  object \n",
            " 51  MiscTechWorkedWith      59586 non-null  object \n",
            " 52  MiscTechDesireNextYear  64511 non-null  object \n",
            " 53  DevEnviron              87317 non-null  object \n",
            " 54  OpSys                   87851 non-null  object \n",
            " 55  Containers              85366 non-null  object \n",
            " 56  BlockchainOrg           48175 non-null  object \n",
            " 57  BlockchainIs            60165 non-null  object \n",
            " 58  BetterLife              86269 non-null  object \n",
            " 59  ITperson                87141 non-null  object \n",
            " 60  OffOn                   86663 non-null  object \n",
            " 61  SocialMedia             84437 non-null  object \n",
            " 62  Extraversion            87305 non-null  object \n",
            " 63  ScreenName              80486 non-null  object \n",
            " 64  SOVisit1st              83877 non-null  object \n",
            " 65  SOVisitFreq             88263 non-null  object \n",
            " 66  SOVisitTo               88086 non-null  object \n",
            " 67  SOFindAnswer            87816 non-null  object \n",
            " 68  SOTimeSaved             86344 non-null  object \n",
            " 69  SOHowMuchTime           68378 non-null  object \n",
            " 70  SOAccount               87828 non-null  object \n",
            " 71  SOPartFreq              74692 non-null  object \n",
            " 72  SOJobs                  88066 non-null  object \n",
            " 73  EntTeams                87841 non-null  object \n",
            " 74  SOComm                  88131 non-null  object \n",
            " 75  WelcomeChange           85855 non-null  object \n",
            " 76  SONewContent            69560 non-null  object \n",
            " 77  Age                     79210 non-null  float64\n",
            " 78  Gender                  85406 non-null  object \n",
            " 79  Trans                   83607 non-null  object \n",
            " 80  Sexuality               76147 non-null  object \n",
            " 81  Ethnicity               76668 non-null  object \n",
            " 82  Dependents              83059 non-null  object \n",
            " 83  SurveyLength            86984 non-null  object \n",
            " 84  SurveyEase              87081 non-null  object \n",
            "dtypes: float64(5), int64(1), object(79)\n",
            "memory usage: 57.6+ MB\n"
          ],
          "name": "stdout"
        }
      ]
    },
    {
      "cell_type": "code",
      "metadata": {
        "id": "dmz8ERp5SG3_",
        "colab_type": "code",
        "colab": {
          "base_uri": "https://localhost:8080/",
          "height": 297
        },
        "outputId": "4e0fb2b6-50d6-4530-fd2b-fbbe4ddd082d"
      },
      "source": [
        "# Take a look at the numerical data\n",
        "data.describe()"
      ],
      "execution_count": 12,
      "outputs": [
        {
          "output_type": "execute_result",
          "data": {
            "text/html": [
              "<div>\n",
              "<style scoped>\n",
              "    .dataframe tbody tr th:only-of-type {\n",
              "        vertical-align: middle;\n",
              "    }\n",
              "\n",
              "    .dataframe tbody tr th {\n",
              "        vertical-align: top;\n",
              "    }\n",
              "\n",
              "    .dataframe thead th {\n",
              "        text-align: right;\n",
              "    }\n",
              "</style>\n",
              "<table border=\"1\" class=\"dataframe\">\n",
              "  <thead>\n",
              "    <tr style=\"text-align: right;\">\n",
              "      <th></th>\n",
              "      <th>Respondent</th>\n",
              "      <th>CompTotal</th>\n",
              "      <th>ConvertedComp</th>\n",
              "      <th>WorkWeekHrs</th>\n",
              "      <th>CodeRevHrs</th>\n",
              "      <th>Age</th>\n",
              "    </tr>\n",
              "  </thead>\n",
              "  <tbody>\n",
              "    <tr>\n",
              "      <th>count</th>\n",
              "      <td>88883.000000</td>\n",
              "      <td>5.594500e+04</td>\n",
              "      <td>5.582300e+04</td>\n",
              "      <td>64503.000000</td>\n",
              "      <td>49790.000000</td>\n",
              "      <td>79210.000000</td>\n",
              "    </tr>\n",
              "    <tr>\n",
              "      <th>mean</th>\n",
              "      <td>44442.000000</td>\n",
              "      <td>5.519014e+11</td>\n",
              "      <td>1.271107e+05</td>\n",
              "      <td>42.127197</td>\n",
              "      <td>5.084308</td>\n",
              "      <td>30.336699</td>\n",
              "    </tr>\n",
              "    <tr>\n",
              "      <th>std</th>\n",
              "      <td>25658.456325</td>\n",
              "      <td>7.331926e+13</td>\n",
              "      <td>2.841523e+05</td>\n",
              "      <td>37.287610</td>\n",
              "      <td>5.513931</td>\n",
              "      <td>9.178390</td>\n",
              "    </tr>\n",
              "    <tr>\n",
              "      <th>min</th>\n",
              "      <td>1.000000</td>\n",
              "      <td>0.000000e+00</td>\n",
              "      <td>0.000000e+00</td>\n",
              "      <td>1.000000</td>\n",
              "      <td>0.000000</td>\n",
              "      <td>1.000000</td>\n",
              "    </tr>\n",
              "    <tr>\n",
              "      <th>25%</th>\n",
              "      <td>22221.500000</td>\n",
              "      <td>2.000000e+04</td>\n",
              "      <td>2.577750e+04</td>\n",
              "      <td>40.000000</td>\n",
              "      <td>2.000000</td>\n",
              "      <td>24.000000</td>\n",
              "    </tr>\n",
              "    <tr>\n",
              "      <th>50%</th>\n",
              "      <td>44442.000000</td>\n",
              "      <td>6.200000e+04</td>\n",
              "      <td>5.728700e+04</td>\n",
              "      <td>40.000000</td>\n",
              "      <td>4.000000</td>\n",
              "      <td>29.000000</td>\n",
              "    </tr>\n",
              "    <tr>\n",
              "      <th>75%</th>\n",
              "      <td>66662.500000</td>\n",
              "      <td>1.200000e+05</td>\n",
              "      <td>1.000000e+05</td>\n",
              "      <td>44.750000</td>\n",
              "      <td>6.000000</td>\n",
              "      <td>35.000000</td>\n",
              "    </tr>\n",
              "    <tr>\n",
              "      <th>max</th>\n",
              "      <td>88883.000000</td>\n",
              "      <td>1.000000e+16</td>\n",
              "      <td>2.000000e+06</td>\n",
              "      <td>4850.000000</td>\n",
              "      <td>99.000000</td>\n",
              "      <td>99.000000</td>\n",
              "    </tr>\n",
              "  </tbody>\n",
              "</table>\n",
              "</div>"
            ],
            "text/plain": [
              "         Respondent     CompTotal  ...    CodeRevHrs           Age\n",
              "count  88883.000000  5.594500e+04  ...  49790.000000  79210.000000\n",
              "mean   44442.000000  5.519014e+11  ...      5.084308     30.336699\n",
              "std    25658.456325  7.331926e+13  ...      5.513931      9.178390\n",
              "min        1.000000  0.000000e+00  ...      0.000000      1.000000\n",
              "25%    22221.500000  2.000000e+04  ...      2.000000     24.000000\n",
              "50%    44442.000000  6.200000e+04  ...      4.000000     29.000000\n",
              "75%    66662.500000  1.200000e+05  ...      6.000000     35.000000\n",
              "max    88883.000000  1.000000e+16  ...     99.000000     99.000000\n",
              "\n",
              "[8 rows x 6 columns]"
            ]
          },
          "metadata": {
            "tags": []
          },
          "execution_count": 12
        }
      ]
    },
    {
      "cell_type": "markdown",
      "metadata": {
        "id": "XSw60sxPHVe8",
        "colab_type": "text"
      },
      "source": [
        "**Key Takeaways**\n",
        "\n",
        "The numbers for total monetary compensation in CompTotal run from 0 to ten quadrillion, so that would be the reason why the ConvertedComp column is used to store the reported compensation values in USD. The yearly earnings in the ConvertedComp column range from nothing to 2,000,000 USD, with the mean compensation being close to 127,000 USD per year. The respondents report working a steady average of 40 hours per week, and spending an average of 5 hours a week on reviewing code. The ages of the respondents range from 1 year (which likely means some data are fake) to 99 years (possible, but doubtful) and their mean age is 30."
      ]
    },
    {
      "cell_type": "code",
      "metadata": {
        "id": "HSuOpWzmSGqL",
        "colab_type": "code",
        "colab": {
          "base_uri": "https://localhost:8080/",
          "height": 34
        },
        "outputId": "c70805c9-516a-4224-8487-c70a9083b987"
      },
      "source": [
        "# Check if there are any duplicate rows in the dataset\n",
        "data.duplicated().sum()"
      ],
      "execution_count": 13,
      "outputs": [
        {
          "output_type": "execute_result",
          "data": {
            "text/plain": [
              "0"
            ]
          },
          "metadata": {
            "tags": []
          },
          "execution_count": 13
        }
      ]
    },
    {
      "cell_type": "markdown",
      "metadata": {
        "id": "e_gAWDW9IdNF",
        "colab_type": "text"
      },
      "source": [
        "There are no duplicate data present"
      ]
    },
    {
      "cell_type": "code",
      "metadata": {
        "id": "ETaafIc2Sm8K",
        "colab_type": "code",
        "colab": {
          "base_uri": "https://localhost:8080/",
          "height": 119
        },
        "outputId": "dc7f1247-ebdf-499c-cc8d-1b35d4c7530b"
      },
      "source": [
        "# Examine the software development experience of the respondents\n",
        "data.MainBranch.value_counts()"
      ],
      "execution_count": 14,
      "outputs": [
        {
          "output_type": "execute_result",
          "data": {
            "text/plain": [
              "I am a developer by profession                                                   65679\n",
              "I am a student who is learning to code                                           10189\n",
              "I am not primarily a developer, but I write code sometimes as part of my work     7539\n",
              "I code primarily as a hobby                                                       3340\n",
              "I used to be a developer by profession, but no longer am                          1584\n",
              "Name: MainBranch, dtype: int64"
            ]
          },
          "metadata": {
            "tags": []
          },
          "execution_count": 14
        }
      ]
    },
    {
      "cell_type": "markdown",
      "metadata": {
        "id": "BlqJxPAHIm21",
        "colab_type": "text"
      },
      "source": [
        "The majority of the respondents report being professional software developers, a significant number are just learning to code. The rest write code as part of other jobs, as a hobby, or no longer work as developers."
      ]
    },
    {
      "cell_type": "code",
      "metadata": {
        "id": "c95lMCf1SsXw",
        "colab_type": "code",
        "colab": {
          "base_uri": "https://localhost:8080/",
          "height": 136
        },
        "outputId": "2901f7fe-49ac-4092-dd02-aecddb6ab072"
      },
      "source": [
        "# Examine the employment status of the respondents\n",
        "data.Employment.value_counts()"
      ],
      "execution_count": 15,
      "outputs": [
        {
          "output_type": "execute_result",
          "data": {
            "text/plain": [
              "Employed full-time                                      64440\n",
              "Independent contractor, freelancer, or self-employed     8511\n",
              "Not employed, but looking for work                       5600\n",
              "Employed part-time                                       4469\n",
              "Not employed, and not looking for work                   3803\n",
              "Retired                                                   358\n",
              "Name: Employment, dtype: int64"
            ]
          },
          "metadata": {
            "tags": []
          },
          "execution_count": 15
        }
      ]
    },
    {
      "cell_type": "markdown",
      "metadata": {
        "id": "VbEi8ckXKlWt",
        "colab_type": "text"
      },
      "source": [
        "The majority of the respondents have full time job."
      ]
    },
    {
      "cell_type": "markdown",
      "metadata": {
        "id": "TcB8S6P0LI4F",
        "colab_type": "text"
      },
      "source": [
        "### Data Preparation\n",
        "\n",
        "For preparing the dataset for the project I did the following:\n",
        "\n",
        "*   I filtered the data so that it only contains developer responses.\n",
        "*   JobSat column is categorical data, so I filled N/A values with the mode. \n",
        "*   There is a difference in salary range that depends on which country the developers live in, so filled the N/A values in ConvertedComp with the average salary of the developer's Country. \n",
        "*   Dropped the remaining N/A values (19 rows) because there are countries with average ConvertedComp = NaN \n",
        "*   The JobSat and OpenSourcer columns were set into categorical data type.\n",
        "\n",
        "\n",
        "\n",
        "\n",
        "\n",
        "\n",
        "\n",
        "\n",
        "\n",
        "\n",
        "\n",
        "\n",
        "\n",
        "\n"
      ]
    },
    {
      "cell_type": "code",
      "metadata": {
        "id": "oK7soyizOMeU",
        "colab_type": "code",
        "colab": {}
      },
      "source": [
        "# Filter the data so it only contains the survey result by the developer\n",
        "developer_data = data[data['MainBranch'] == 'I am a developer by profession']\n",
        "\n",
        "# Fill the N/A values in JobSat column with the mode\n",
        "developer_data['JobSat'] = developer_data['JobSat'].fillna(developer_data['JobSat'].mode()[0])\n",
        "\n",
        "# Fill the N/A values in ConvertedComp column with the mean of each country\n",
        "salary_per_country = developer_data.groupby('Country')['ConvertedComp'].mean()\n",
        "developer_data['ConvertedComp'] = developer_data.apply(lambda x: salary_per_country[x['Country']] if pd.isnull(x['ConvertedComp']) else x['ConvertedComp'], axis=1)\n",
        "developer_data = developer_data.dropna(subset=['ConvertedComp'])\n",
        "\n",
        "# Set the JobSat and OpenSourcerr column into categorical data type so it will be sorted with the right order (ordinal data)\n",
        "developer_data['JobSat'] = pd.Categorical(developer_data['JobSat'], categories=['Very dissatisfied',\n",
        "                                                                                'Slightly dissatisfied',\n",
        "                                                                                'Neither satisfied nor dissatisfied',\n",
        "                                                                                'Slightly satisfied',\n",
        "                                                                                'Very satisfied'], ordered=True)\n",
        "\n",
        "developer_data['OpenSourcer'] = pd.Categorical(developer_data['OpenSourcer'], categories=['Never',\n",
        "                                                                                'Less than once per year',\n",
        "                                                                                'Less than once a month but more than once per year',\n",
        "                                                                                'Once a month or more often'], ordered=True)"
      ],
      "execution_count": 16,
      "outputs": []
    },
    {
      "cell_type": "markdown",
      "metadata": {
        "id": "lRUOHf_lOU4C",
        "colab_type": "text"
      },
      "source": [
        "**1. Country with the highest job satisfaction**\n"
      ]
    },
    {
      "cell_type": "code",
      "metadata": {
        "id": "z687zIZSOajk",
        "colab_type": "code",
        "colab": {}
      },
      "source": [
        "# Filtered the data so it only contains the survey result from the top 30 country based on the total respondents\n",
        "top_30_country = list(developer_data['Country'].value_counts().head(30).index)\n",
        "filtered_developer_data = developer_data[developer_data['Country'].isin(top_30_country)]\n",
        "\n",
        "# Aggregate the data so we can visualize it later\n",
        "aggregated_data = filtered_developer_data.groupby(['Country','JobSat'], as_index=False)['Respondent'].count()\n",
        "\n",
        "# Add column percentage\n",
        "total_respondents_per_country = filtered_developer_data['Country'].value_counts()\n",
        "\n",
        "aggregated_data['Respondent Percentage'] = aggregated_data \\\n",
        "                                           .apply(lambda x: x['Respondent'] / total_respondents_per_country[x['Country']], axis=1) \\\n",
        "                                           .round(3)\n",
        "\n",
        "# Pivot the data\n",
        "aggregated_data = aggregated_data[['Country', 'JobSat', 'Respondent Percentage']]\n",
        "pivoted_data = pd.pivot_table(aggregated_data, values='Respondent Percentage', index='Country', columns='JobSat') \\\n",
        "                 .sort_values('Very satisfied', ascending=False)"
      ],
      "execution_count": 17,
      "outputs": []
    },
    {
      "cell_type": "markdown",
      "metadata": {
        "id": "Q_yTldSHcbW3",
        "colab_type": "text"
      },
      "source": [
        "The data contains the respondent from more than 170 countries but we limit it to 30 countries. We wanted as much data from each country so we chose those countries which have a minimum of 400 respondents."
      ]
    },
    {
      "cell_type": "code",
      "metadata": {
        "id": "LuyDxS5VOhZ9",
        "colab_type": "code",
        "colab": {
          "base_uri": "https://localhost:8080/",
          "height": 420
        },
        "outputId": "231298d0-a9c2-486a-ee28-d96201f8fb49"
      },
      "source": [
        "# Visualize the data\n",
        "pivoted_data.plot(kind='bar', \n",
        "                  stacked=True, \n",
        "                  colormap=ListedColormap(sns.color_palette(\"Blues_d\")),\n",
        "                  figsize=(13,5))\n",
        "plt.legend(loc=\"upper left\", bbox_to_anchor=(1,1.02))\n",
        "plt.ylabel('Satisfaction Percentages')\n",
        "plt.title('Job Satisfaction Percentage per Country')\n",
        "plt.show()"
      ],
      "execution_count": 18,
      "outputs": [
        {
          "output_type": "display_data",
          "data": {
            "image/png": "[encoded data removed]",
            "text/plain": [
              "<Figure size 936x360 with 1 Axes>"
            ]
          },
          "metadata": {
            "tags": [],
            "needs_background": "light"
          }
        }
      ]
    },
    {
      "cell_type": "markdown",
      "metadata": {
        "id": "DUKvO7LXeIfn",
        "colab_type": "text"
      },
      "source": [
        "According to the graph, United States has the highest job satisfaction with 40% respondent voting for it. Another interesting insight is that amomng the top 10 countries in terms of job satisfaction, Europe is home to 5 of those countries. "
      ]
    },
    {
      "cell_type": "markdown",
      "metadata": {
        "id": "FidWHDWaejBT",
        "colab_type": "text"
      },
      "source": [
        "**2. Job satisfaction according to Undergraduate Major**"
      ]
    },
    {
      "cell_type": "code",
      "metadata": {
        "id": "49tfuCpbOkw4",
        "colab_type": "code",
        "colab": {
          "base_uri": "https://localhost:8080/",
          "height": 68
        },
        "outputId": "1cd798c8-06d8-4c13-c9e1-ad439338feea"
      },
      "source": [
        "# Create a new columns to flag each respondent if their major is related or not\n",
        "def check_major(value):\n",
        "    '''\n",
        "    input: the value of each row in the selected column\n",
        "    output: the mapped value based on the rule we made in this function\n",
        "    '''\n",
        "\n",
        "    if value == 'Computer science, computer engineering, or software engineering' \\\n",
        "    or value == 'Information systems, information technology, or system administration' \\\n",
        "    or value == 'Web development or web design':\n",
        "        return 'IT Related'\n",
        "    return 'Not IT Related'\n",
        "\n",
        "developer_data['Major'] = developer_data['UndergradMajor'].apply(check_major)\n",
        "\n",
        "developer_data['Major'].value_counts(normalize=True)"
      ],
      "execution_count": 19,
      "outputs": [
        {
          "output_type": "execute_result",
          "data": {
            "text/plain": [
              "IT Related        0.708178\n",
              "Not IT Related    0.291822\n",
              "Name: Major, dtype: float64"
            ]
          },
          "metadata": {
            "tags": []
          },
          "execution_count": 19
        }
      ]
    },
    {
      "cell_type": "markdown",
      "metadata": {
        "id": "ci3_SVRgfKMO",
        "colab_type": "text"
      },
      "source": [
        "I cateogrized the UndergradMajor column into two types (IT Related and Not IT Related). It shows that 29% of developers do not have a formal educaction in IT related domain."
      ]
    },
    {
      "cell_type": "code",
      "metadata": {
        "id": "osrAmOzCOpkm",
        "colab_type": "code",
        "colab": {}
      },
      "source": [
        "# Aggregate the data so we know how many respondents in each major (IT related or not IT related)\n",
        "aggregated_data = developer_data.groupby(['Major','JobSat'], as_index=False)['Respondent'].count()\n",
        "\n",
        "# Add column percentage\n",
        "total_respondents_per_major = developer_data['Major'].value_counts()\n",
        "\n",
        "aggregated_data['Respondent Percentage'] = aggregated_data \\\n",
        "                                           .apply(lambda x: x['Respondent'] / total_respondents_per_major[x['Major']], axis=1) \\\n",
        "                                           .round(4)\n",
        "\n",
        "# Pivot the data\n",
        "aggregated_data = aggregated_data[['Major', 'JobSat', 'Respondent Percentage']]\n",
        "pivoted_data = pd.pivot_table(aggregated_data, values='Respondent Percentage', index='Major', columns='JobSat')"
      ],
      "execution_count": 20,
      "outputs": []
    },
    {
      "cell_type": "markdown",
      "metadata": {
        "id": "rdE6vPyTfe7A",
        "colab_type": "text"
      },
      "source": [
        "I calculated the percentages of each value in JobSat to measure the job satisfaction for each major type."
      ]
    },
    {
      "cell_type": "code",
      "metadata": {
        "id": "fCeVaGjyOsGz",
        "colab_type": "code",
        "colab": {
          "base_uri": "https://localhost:8080/",
          "height": 321
        },
        "outputId": "efbe7d74-86f9-4b72-99f6-cf8d20f67d99"
      },
      "source": [
        "pivoted_data.plot(kind='barh', \n",
        "                  stacked=True, \n",
        "                  colormap=ListedColormap(sns.color_palette(\"Blues_d\")),\n",
        "                  figsize=(13,5))\n",
        "plt.legend(loc=\"upper left\", bbox_to_anchor=(1,1.02))\n",
        "plt.xlabel('Satisfaction Percentages')\n",
        "plt.title('Job Satisfaction Percentage by Undergraduate Major')\n",
        "plt.show()\n"
      ],
      "execution_count": 21,
      "outputs": [
        {
          "output_type": "display_data",
          "data": {
            "image/png": "[encoded data removed]",
            "text/plain": [
              "<Figure size 936x360 with 1 Axes>"
            ]
          },
          "metadata": {
            "tags": [],
            "needs_background": "light"
          }
        }
      ]
    },
    {
      "cell_type": "code",
      "metadata": {
        "id": "n0D8653gOuHm",
        "colab_type": "code",
        "colab": {
          "base_uri": "https://localhost:8080/",
          "height": 176
        },
        "outputId": "c45988bc-4086-4b94-a458-9155ddaad7f1"
      },
      "source": [
        "pivoted_data"
      ],
      "execution_count": 22,
      "outputs": [
        {
          "output_type": "execute_result",
          "data": {
            "text/html": [
              "<div>\n",
              "<style scoped>\n",
              "    .dataframe tbody tr th:only-of-type {\n",
              "        vertical-align: middle;\n",
              "    }\n",
              "\n",
              "    .dataframe tbody tr th {\n",
              "        vertical-align: top;\n",
              "    }\n",
              "\n",
              "    .dataframe thead th {\n",
              "        text-align: right;\n",
              "    }\n",
              "</style>\n",
              "<table border=\"1\" class=\"dataframe\">\n",
              "  <thead>\n",
              "    <tr style=\"text-align: right;\">\n",
              "      <th>JobSat</th>\n",
              "      <th>Very dissatisfied</th>\n",
              "      <th>Slightly dissatisfied</th>\n",
              "      <th>Neither satisfied nor dissatisfied</th>\n",
              "      <th>Slightly satisfied</th>\n",
              "      <th>Very satisfied</th>\n",
              "    </tr>\n",
              "    <tr>\n",
              "      <th>Major</th>\n",
              "      <th></th>\n",
              "      <th></th>\n",
              "      <th></th>\n",
              "      <th></th>\n",
              "      <th></th>\n",
              "    </tr>\n",
              "  </thead>\n",
              "  <tbody>\n",
              "    <tr>\n",
              "      <th>IT Related</th>\n",
              "      <td>0.0661</td>\n",
              "      <td>0.1493</td>\n",
              "      <td>0.1239</td>\n",
              "      <td>0.3641</td>\n",
              "      <td>0.2966</td>\n",
              "    </tr>\n",
              "    <tr>\n",
              "      <th>Not IT Related</th>\n",
              "      <td>0.0664</td>\n",
              "      <td>0.1363</td>\n",
              "      <td>0.1070</td>\n",
              "      <td>0.3527</td>\n",
              "      <td>0.3376</td>\n",
              "    </tr>\n",
              "  </tbody>\n",
              "</table>\n",
              "</div>"
            ],
            "text/plain": [
              "JobSat          Very dissatisfied  ...  Very satisfied\n",
              "Major                              ...                \n",
              "IT Related                 0.0661  ...          0.2966\n",
              "Not IT Related             0.0664  ...          0.3376\n",
              "\n",
              "[2 rows x 5 columns]"
            ]
          },
          "metadata": {
            "tags": []
          },
          "execution_count": 22
        }
      ]
    },
    {
      "cell_type": "markdown",
      "metadata": {
        "id": "evsDbaezfxfi",
        "colab_type": "text"
      },
      "source": [
        "The above data visualizations conclude that developers whose undergraduate major is not IT-related(34%) have slightly better job satisfaction compared those who have IT related background(30%)"
      ]
    },
    {
      "cell_type": "markdown",
      "metadata": {
        "id": "MmO7wo8JkMAS",
        "colab_type": "text"
      },
      "source": [
        "**3. Job Satisfaction based on Organization Size**"
      ]
    },
    {
      "cell_type": "code",
      "metadata": {
        "id": "CKIPPjgKkWNZ",
        "colab_type": "code",
        "colab": {
          "base_uri": "https://localhost:8080/",
          "height": 773
        },
        "outputId": "ea229f67-e7a3-4346-b932-b051d8e4b638"
      },
      "source": [
        "# Make a new dataframe that drops all rows with null values in the OrgSize and JobSat columns\n",
        "df2 = data.dropna(subset=['OrgSize', 'JobSat'], axis=0)\n",
        "\n",
        "# Make a clustered bar chart of job satisfaction grouped by organization size\n",
        "palette={'Very dissatisfied':'orangered', 'Slightly dissatisfied':'yellow',\n",
        "         'Neither satisfied nor dissatisfied':'chartreuse', 'Slightly satisfied':'deepskyblue',\n",
        "         'Very satisfied':'blueviolet'}\n",
        "fig, ax = plt.subplots(figsize=(20, 10))\n",
        "sns.countplot(ax=ax, x='OrgSize', hue='JobSat', data=df2,\n",
        "              order=[\"Just me - I am a freelancer, sole proprietor, etc.\", \n",
        "                     \"2-9 employees\", \"10 to 19 employees\", \"20 to 99 employees\", \n",
        "                     \"100 to 499 employees\", \"500 to 999 employees\", \n",
        "                     \"1,000 to 4,999 employees\", \"5,000 to 9,999 employees\", \n",
        "                     \"10,000 or more employees\"],\n",
        "              hue_order=['Very dissatisfied', 'Slightly dissatisfied',\n",
        "                        'Neither satisfied nor dissatisfied',\n",
        "                        'Slightly satisfied', 'Very satisfied'],\n",
        "              #palette=palette\n",
        "              palette=sns.color_palette(\"Blues_d\"))\n",
        "ax.set_xticklabels(ax.get_xticklabels(), fontsize=15, rotation=70)\n",
        "ax.set_title('Levels of Developer Satisfaction Grouped by Organization Size', fontsize=20)\n",
        "ax.set_xlabel('Organization Size', fontsize=18)\n",
        "ax.set_ylabel('Total Count', fontsize=18);"
      ],
      "execution_count": 23,
      "outputs": [
        {
          "output_type": "display_data",
          "data": {
            "image/png": "[encoded data removed]",
            "text/plain": [
              "<Figure size 1440x720 with 1 Axes>"
            ]
          },
          "metadata": {
            "tags": [],
            "needs_background": "light"
          }
        }
      ]
    },
    {
      "cell_type": "markdown",
      "metadata": {
        "id": "jnuSADomlLBb",
        "colab_type": "text"
      },
      "source": [
        "Out of the 9 different organization sizes, freelancers/sole proprietors and people in companies of 2-9 employees report the highest job satisfaction. It can be seen the sole proprietors category has the least proportion of unsatisfaction and has a higher number of \"neutral\" votes. We can say that sole proprietors are comparatively less unsatisfied.\n",
        "\n",
        "However, the \"very satisfied\" and \"slighty satisfied\"  reached the peak for respondents in organization with 20-99  employees and from 100-499 employees. \n"
      ]
    },
    {
      "cell_type": "markdown",
      "metadata": {
        "id": "m6udIbvngKsF",
        "colab_type": "text"
      },
      "source": [
        "**4. Compensation and contributing to open source**"
      ]
    },
    {
      "cell_type": "code",
      "metadata": {
        "id": "wP2KtMDvOw9J",
        "colab_type": "code",
        "colab": {
          "base_uri": "https://localhost:8080/",
          "height": 173
        },
        "outputId": "96290ad6-9420-40f8-db57-cbc462036ab4"
      },
      "source": [
        "# Aggregate the data\n",
        "comp_per_category = developer_data.groupby('OpenSourcer', as_index=False)['ConvertedComp'].mean()\n",
        "\n",
        "comp_per_category"
      ],
      "execution_count": 24,
      "outputs": [
        {
          "output_type": "execute_result",
          "data": {
            "text/html": [
              "<div>\n",
              "<style scoped>\n",
              "    .dataframe tbody tr th:only-of-type {\n",
              "        vertical-align: middle;\n",
              "    }\n",
              "\n",
              "    .dataframe tbody tr th {\n",
              "        vertical-align: top;\n",
              "    }\n",
              "\n",
              "    .dataframe thead th {\n",
              "        text-align: right;\n",
              "    }\n",
              "</style>\n",
              "<table border=\"1\" class=\"dataframe\">\n",
              "  <thead>\n",
              "    <tr style=\"text-align: right;\">\n",
              "      <th></th>\n",
              "      <th>OpenSourcer</th>\n",
              "      <th>ConvertedComp</th>\n",
              "    </tr>\n",
              "  </thead>\n",
              "  <tbody>\n",
              "    <tr>\n",
              "      <th>0</th>\n",
              "      <td>Never</td>\n",
              "      <td>117254.369170</td>\n",
              "    </tr>\n",
              "    <tr>\n",
              "      <th>1</th>\n",
              "      <td>Less than once per year</td>\n",
              "      <td>120802.882927</td>\n",
              "    </tr>\n",
              "    <tr>\n",
              "      <th>2</th>\n",
              "      <td>Less than once a month but more than once per ...</td>\n",
              "      <td>123194.248789</td>\n",
              "    </tr>\n",
              "    <tr>\n",
              "      <th>3</th>\n",
              "      <td>Once a month or more often</td>\n",
              "      <td>123881.913894</td>\n",
              "    </tr>\n",
              "  </tbody>\n",
              "</table>\n",
              "</div>"
            ],
            "text/plain": [
              "                                         OpenSourcer  ConvertedComp\n",
              "0                                              Never  117254.369170\n",
              "1                            Less than once per year  120802.882927\n",
              "2  Less than once a month but more than once per ...  123194.248789\n",
              "3                         Once a month or more often  123881.913894"
            ]
          },
          "metadata": {
            "tags": []
          },
          "execution_count": 24
        }
      ]
    },
    {
      "cell_type": "code",
      "metadata": {
        "id": "l5c9WlwKOzA6",
        "colab_type": "code",
        "colab": {
          "base_uri": "https://localhost:8080/",
          "height": 502
        },
        "outputId": "ee0aad2b-0c94-4e4a-d4b7-a8e7b3f904c9"
      },
      "source": [
        "# Visualize the data\n",
        "plt.figure(figsize=(16, 8))\n",
        "sns.barplot(data=comp_per_category, x='OpenSourcer', y='ConvertedComp', palette=sns.color_palette(\"Blues_d\"))\n",
        "plt.ylim(90000,140000)\n",
        "plt.title('Total Salary and Frequency of Contributing to Open Source')\n",
        "plt.ylabel('Total Salary (USD / year)')\n",
        "plt.xlabel('Contributing to Open Source Frequency')\n",
        "plt.show()"
      ],
      "execution_count": 25,
      "outputs": [
        {
          "output_type": "display_data",
          "data": {
            "image/png": "[encoded data removed]",
            "text/plain": [
              "<Figure size 1152x576 with 1 Axes>"
            ]
          },
          "metadata": {
            "tags": [],
            "needs_background": "light"
          }
        }
      ]
    },
    {
      "cell_type": "markdown",
      "metadata": {
        "id": "L1Yhmpy9gnHu",
        "colab_type": "text"
      },
      "source": [
        "The above visualization shows that developers frequently contributing to open source havev higher salary. People contributing at least once a month have 7% higher salary than the rest. Although this correlation does not mean if we want higher salary we need to start contributing to open source. That's because Correlation does not imply Causation.\n",
        "\n",
        "This relationship could be due to the fact that developers with strong technical knowledge can contribute to open source more often. And as we know, the more skilled the developers, the higher their salary is. \n"
      ]
    },
    {
      "cell_type": "markdown",
      "metadata": {
        "id": "CecrB001nO25",
        "colab_type": "text"
      },
      "source": [
        "## Conclusion\n",
        "\n",
        "The following is the summary of our deductions:\n",
        "\n",
        "1.   **United States** has the **highest job satisfaction** level in the world. 5 out of the top 10 countries with the highest job satisfaction are located in **Europe**. \n",
        "2.   We categorized rerspondents into IT and non-IT major and found **developers with non-IT background were sligtly more satisfied**.\n",
        "3.   Job satisfaction in  accordance to organization size were looked. We concluded that **sole proprietor** has **less** proportion of **unsatisfied **respondents and the **most satisfied** were respondents in  organization with **size 20-99 and 100-499 employees**. \n",
        "4.   In terms of salary, **developers** who regularly contribute to **open source have higher salary**.\n"
      ]
    },
    {
      "cell_type": "code",
      "metadata": {
        "id": "RlWGiu-9TCnT",
        "colab_type": "code",
        "colab": {}
      },
      "source": [
        ""
      ],
      "execution_count": null,
      "outputs": []
    }
  ]
}
